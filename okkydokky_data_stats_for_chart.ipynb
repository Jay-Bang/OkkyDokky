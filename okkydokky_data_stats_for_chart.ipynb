{
 "cells": [
  {
   "cell_type": "markdown",
   "id": "2b310a59",
   "metadata": {},
   "source": [
    "# Total Data Crawler"
   ]
  },
  {
   "cell_type": "code",
   "execution_count": null,
   "id": "9ea17b64",
   "metadata": {},
   "outputs": [],
   "source": [
    "qs = QuestionTable.objects.all()\n",
    "\n",
    "for year in range(2001, 2023):\n",
    "    data_per_year = qs.filter(post_datetime__range=('{}-01-01 00:00:00'.format(year), '{}-12-31 23:59:59'.format(year)))\n",
    "    total_data_per_year = data_per_year.count()\n",
    "    no_answer = data_per_year.filter(total_comment=0).count()\n",
    "    answer = data_per_year.filter(total_comment__gt=0).count()\n",
    "    unchecked_answer = data_per_year.filter(total_comment__gt=0).filter(checked_answer__lt=0).count()\n",
    "    checked_answer = data_per_year.filter(checked_answer__gt=0).count()\n",
    "    answer_ratio = round(((answer / total_data_per_year) * 100), 1)\n",
    "    checked_answer_ratio = round(((checked_answer / unchecked_answer) * 100), 1)\n",
    "\n",
    "    context = [\n",
    "        year, \n",
    "        total_data_per_year, \n",
    "        no_answer, \n",
    "        answer, \n",
    "        unchecked_answer, \n",
    "        checked_answer, \n",
    "        answer_ratio, \n",
    "        checked_answer_ratio\n",
    "    ]\n",
    "\n",
    "    DataStats.objects.create(\n",
    "        year = context[0], \n",
    "        total_data = context[1],\n",
    "        no_answer = context[2],\n",
    "        answer = context[3],\n",
    "        unchecked_answer = context[4],\n",
    "        checked_answer = context[5],\n",
    "        answer_ratio = context[6],\n",
    "        checked_answer_ratio = context[7]\n",
    "    )"
   ]
  },
  {
   "cell_type": "markdown",
   "id": "9c3ecad0",
   "metadata": {},
   "source": [
    "# Total Data Weekly Update"
   ]
  },
  {
   "cell_type": "code",
   "execution_count": null,
   "id": "2088ce03",
   "metadata": {},
   "outputs": [],
   "source": [
    "qs = QuestionTable.objects.all()\n",
    "\n",
    "for year in range(2001, 2023):\n",
    "    data_per_year = qs.filter(post_datetime__range=('{}-01-01 00:00:00'.format(year), '{}-12-31 23:59:59'.format(year)))\n",
    "    total_data_per_year = data_per_year.count()\n",
    "    no_answer = data_per_year.filter(total_comment=0).count()\n",
    "    answer = data_per_year.filter(total_comment__gt=0).count()\n",
    "    unchecked_answer = data_per_year.filter(total_comment__gt=0).filter(checked_answer__lt=0).count()\n",
    "    checked_answer = data_per_year.filter(checked_answer__gt=0).count()\n",
    "    answer_ratio = round(((answer / total_data_per_year) * 100), 1)\n",
    "    checked_answer_ratio = round(((checked_answer / unchecked_answer) * 100), 1)\n",
    "\n",
    "    context = [\n",
    "        year, \n",
    "        total_data_per_year, \n",
    "        no_answer, \n",
    "        answer, \n",
    "        unchecked_answer, \n",
    "        checked_answer, \n",
    "        answer_ratio, \n",
    "        checked_answer_ratio\n",
    "    ]\n",
    "    \n",
    "    check_obj = DataStats.objects.get(year=year)\n",
    "    \n",
    "    check_obj.year = context[0]\n",
    "    check_obj.total_data = context[1]\n",
    "    check_obj.no_answer = context[2]\n",
    "    check_obj.answer = context[3]\n",
    "    check_obj.unchecked_answer = context[4]\n",
    "    check_obj.checked_answer = context[5]\n",
    "    check_obj.answer_ratio = context[6]\n",
    "    check_obj.checked_answer_ratio = context[7]\n",
    "\n",
    "    check_obj.save()"
   ]
  },
  {
   "cell_type": "markdown",
   "id": "9156d737",
   "metadata": {},
   "source": [
    "# Code Language Usage Data Crawler"
   ]
  },
  {
   "cell_type": "code",
   "execution_count": null,
   "id": "2a14e6f4",
   "metadata": {},
   "outputs": [],
   "source": [
    "qs = QuestionTable.objects.all()\n",
    "\n",
    "codeString = ''\n",
    "for q in qs:\n",
    "    code = (q.code_lang)#[1:30].split('$')\n",
    "    if code == '':\n",
    "        pass\n",
    "    else:\n",
    "        codeString += code\n",
    "\n",
    "codeList = codeString[1:].split('$')\n",
    "\n",
    "countCode={}\n",
    "\n",
    "for i in codeList:\n",
    "    try: \n",
    "        countCode[i] += 1\n",
    "    except:\n",
    "        countCode[i] = 1\n",
    "\n",
    "sortCodeCount = sorted(countCode.items(), reverse=True, key=lambda item: item[1])\n",
    "\n",
    "for key, value in sortCodeCount:\n",
    "    CodeStats.objects.create(\n",
    "        code_language = key, \n",
    "        total_used = value\n",
    "    )"
   ]
  },
  {
   "cell_type": "markdown",
   "id": "57b4bdc9",
   "metadata": {},
   "source": [
    "# Code Language Weekly Update Code"
   ]
  },
  {
   "cell_type": "code",
   "execution_count": null,
   "id": "e73f7704",
   "metadata": {},
   "outputs": [],
   "source": [
    "qs = QuestionTable.objects.all()\n",
    "\n",
    "codeString = ''\n",
    "for q in qs:\n",
    "    code = (q.code_lang)#[1:30].split('$')\n",
    "    if code == '':\n",
    "        pass\n",
    "    else:\n",
    "        codeString += code\n",
    "\n",
    "codeList = codeString[1:].split('$')\n",
    "\n",
    "countCode={}\n",
    "\n",
    "for i in codeList:\n",
    "    try: \n",
    "        countCode[i] += 1\n",
    "    except:\n",
    "        countCode[i] = 1\n",
    "\n",
    "sortCodeCount = sorted(countCode.items(), reverse=True, key=lambda item: item[1])\n",
    "\n",
    "for key, value in sortCodeCount:\n",
    "    check_obj = CodeStats.objects.get(code_language=key)\n",
    "    \n",
    "    if check_obj:\n",
    "        check_obj.code_language = key\n",
    "        check_obj.total_used = value\n",
    "\n",
    "        check_obj.save()\n",
    "    else:\n",
    "        CodeStats.objects.create(\n",
    "            code_language = key, \n",
    "            total_used = value\n",
    "        )"
   ]
  },
  {
   "cell_type": "code",
   "execution_count": null,
   "id": "ba5d9f90",
   "metadata": {},
   "outputs": [],
   "source": []
  }
 ],
 "metadata": {
  "kernelspec": {
   "display_name": "Django Shell-Plus",
   "language": "python",
   "name": "django_extensions"
  },
  "language_info": {
   "codemirror_mode": {
    "name": "ipython",
    "version": 3
   },
   "file_extension": ".py",
   "mimetype": "text/x-python",
   "name": "python",
   "nbconvert_exporter": "python",
   "pygments_lexer": "ipython3",
   "version": "3.7.11"
  }
 },
 "nbformat": 4,
 "nbformat_minor": 5
}
